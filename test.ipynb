{
 "cells": [
  {
   "cell_type": "code",
   "execution_count": 20,
   "metadata": {},
   "outputs": [],
   "source": [
    "import torch\n",
    "import torch.nn as nn\n",
    "import numpy as np\n",
    "import torch.nn.functional as F\n",
    "class CNN3D(nn.Module):\n",
    "    def __init__(self, sample_size=128, sample_duration=16, drop_p=0.0, hidden1=512, hidden2=256, num_classes=100):\n",
    "        super(CNN3D, self).__init__()\n",
    "        self.sample_size = sample_size\n",
    "        self.sample_duration = sample_duration\n",
    "        self.num_classes = num_classes\n",
    "\n",
    "        # network params\n",
    "        self.ch1, self.ch2, self.ch3 = 32, 48, 48\n",
    "        self.k1, self.k2, self.k3 = (1,1,1), (1,1,1), (2,2,2)\n",
    "        self.s1, self.s2, self.s3 = (2,2,2), (2,2,2), (2,2,2)\n",
    "        self.p1, self.p2, self.p3 = (0,0,0), (0,0,0), (0,0,0)\n",
    "#         self.d1, self.d2, self.d3 = (0,0,0), (0,0,0), (0,0,0)\n",
    "        self.hidden1, self.hidden2 = hidden1, hidden2\n",
    "        self.drop_p = drop_p\n",
    "        self.pool_k, self.pool_s, self.pool_p, self.pool_d = (1,2,2), (1,2,2), (0,0,0), (1,1,1)\n",
    "        # Conv1\n",
    "        self.conv1_output_shape = self.compute_output_shape(self.sample_duration, self.sample_size,\n",
    "            self.sample_size, self.k1, self.s1, self.p1)\n",
    "        # self.conv1_output_shape = self.compute_output_shape(self.conv1_output_shape[0], self.conv1_output_shape[1], \n",
    "        #     self.conv1_output_shape[2], self.pool_k, self.pool_s, self.pool_p, self.pool_d)\n",
    "        # Conv2\n",
    "        self.conv2_output_shape = self.compute_output_shape(self.conv1_output_shape[0], self.conv1_output_shape[1], \n",
    "            self.conv1_output_shape[2], self.k2, self.s2, self.p2)\n",
    "        # self.conv2_output_shape = self.compute_output_shape(self.conv2_output_shape[0], self.conv2_output_shape[1], \n",
    "        #     self.conv2_output_shape[2], self.pool_k, self.pool_s, self.pool_p, self.pool_d)\n",
    "        # Conv3\n",
    "        self.conv3_output_shape = self.compute_output_shape(self.conv2_output_shape[0], self.conv2_output_shape[1],\n",
    "            self.conv2_output_shape[2], self.k3, self.s3, self.p3)\n",
    "        # print(self.conv1_output_shape, self.conv2_output_shape, self.conv3_output_shape)\n",
    "\n",
    "        # network architecture\n",
    "        # in_channels=1 for grayscale, 3 for rgb\n",
    "        self.conv1 = nn.Conv3d(in_channels=3, out_channels=self.ch1, kernel_size=self.k1,\n",
    "            stride=self.s1, padding=self.p1)\n",
    "        self.bn1 = nn.BatchNorm3d(self.ch1)\n",
    "        self.conv2 = nn.Conv3d(in_channels=self.ch1, out_channels=self.ch2, kernel_size=self.k2,\n",
    "            stride=self.s2, padding=self.p2)\n",
    "        self.bn2 = nn.BatchNorm3d(self.ch2)\n",
    "        self.conv3 = nn.Conv3d(in_channels=self.ch2, out_channels=self.ch3, kernel_size=self.k3,\n",
    "            stride=self.s3, padding=self.p3)\n",
    "        self.bn3 = nn.BatchNorm3d(self.ch3)\n",
    "        self.relu = nn.ReLU(inplace=True)\n",
    "        self.drop = nn.Dropout3d(p=self.drop_p)\n",
    "        self.pool = nn.MaxPool3d(kernel_size=self.pool_k)\n",
    "        self.fc1 = nn.Linear(self.ch3 * self.conv3_output_shape[0] * self.conv3_output_shape[1] * self.conv3_output_shape[2], self.hidden1)\n",
    "        self.fc2 = nn.Linear(self.hidden1, self.hidden2)\n",
    "        self.fc3 = nn.Linear(self.hidden2, self.num_classes)\n",
    "\n",
    "    def forward(self, x):\n",
    "        # Conv1\n",
    "        x = self.conv1(x)\n",
    "        x = self.bn1(x)\n",
    "        x = self.relu(x)\n",
    "        # x = self.pool(x)\n",
    "        # x = self.drop(x)\n",
    "        # Conv2\n",
    "        x = self.conv2(x)\n",
    "        x = self.bn2(x)\n",
    "        x = self.relu(x)\n",
    "        # x = self.pool(x)\n",
    "        # x = self.drop(x)\n",
    "        # Conv3\n",
    "        x = self.conv3(x)\n",
    "        x = self.bn3(x)\n",
    "        x = self.relu(x)\n",
    "        # x = self.drop(x)\n",
    "        # MLP\n",
    "        # print(x.shape)\n",
    "        # x.size(0) ------ batch_size\n",
    "        print(x.shape)\n",
    "        x = x.view(-1, 24576)\n",
    "        print(x.shape)\n",
    "        x = F.relu(self.fc1(x))\n",
    "        print(x.shape)\n",
    "        x = F.relu(self.fc2(x))\n",
    "        print(x.shape)\n",
    "        x = F.dropout(x, p=self.drop_p, training=self.training)\n",
    "        print(x.shape)\n",
    "        x = self.fc3(x)\n",
    "        print(x.shape)\n",
    "        return \n",
    "    def compute_output_shape(self, D_in, H_in, W_in, k, s, p):\n",
    "        # Conv\n",
    "        D_out = np.floor((D_in + 2*p[0] - 0*(k[0] - 1) - 1)/s[0] + 1).astype(int)\n",
    "        H_out = np.floor((H_in + 2*p[1] - 0*(k[1] - 1) - 1)/s[1] + 1).astype(int)\n",
    "        W_out = np.floor((W_in + 2*p[2] - 0*(k[2] - 1) - 1)/s[2] + 1).astype(int)\n",
    "        \n",
    "        return D_out, H_out, W_out\n",
    "\n",
    "model = CNN3D()\n"
   ]
  },
  {
   "cell_type": "code",
   "execution_count": 21,
   "metadata": {},
   "outputs": [
    {
     "name": "stdout",
     "output_type": "stream",
     "text": [
      "torch.Size([8, 48, 10, 8, 8])\n",
      "torch.Size([10, 24576])\n",
      "torch.Size([10, 512])\n",
      "torch.Size([10, 256])\n",
      "torch.Size([10, 256])\n",
      "torch.Size([10, 100])\n",
      "None\n"
     ]
    }
   ],
   "source": [
    "input_data = torch.randn(8, 3, 80, 64, 64)  # Example input data\n",
    "output = model.forward(input_data)\n",
    "print(output)"
   ]
  },
  {
   "cell_type": "code",
   "execution_count": 8,
   "metadata": {},
   "outputs": [
    {
     "ename": "AttributeError",
     "evalue": "'NoneType' object has no attribute 'shape'",
     "output_type": "error",
     "traceback": [
      "\u001b[0;31m---------------------------------------------------------------------------\u001b[0m",
      "\u001b[0;31mAttributeError\u001b[0m                            Traceback (most recent call last)",
      "Cell \u001b[0;32mIn[8], line 1\u001b[0m\n\u001b[0;32m----> 1\u001b[0m \u001b[38;5;28mprint\u001b[39m(\u001b[43moutput\u001b[49m\u001b[38;5;241;43m.\u001b[39;49m\u001b[43mshape\u001b[49m)\n",
      "\u001b[0;31mAttributeError\u001b[0m: 'NoneType' object has no attribute 'shape'"
     ]
    }
   ],
   "source": [
    "print(output.shape)"
   ]
  }
 ],
 "metadata": {
  "kernelspec": {
   "display_name": "Python 3 (ipykernel)",
   "language": "python",
   "name": "python3"
  },
  "language_info": {
   "codemirror_mode": {
    "name": "ipython",
    "version": 3
   },
   "file_extension": ".py",
   "mimetype": "text/x-python",
   "name": "python",
   "nbconvert_exporter": "python",
   "pygments_lexer": "ipython3",
   "version": "3.9.16"
  }
 },
 "nbformat": 4,
 "nbformat_minor": 2
}
